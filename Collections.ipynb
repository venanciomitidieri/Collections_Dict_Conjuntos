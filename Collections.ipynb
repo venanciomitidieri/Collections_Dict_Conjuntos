{
  "nbformat": 4,
  "nbformat_minor": 0,
  "metadata": {
    "colab": {
      "name": "Collections",
      "provenance": [],
      "authorship_tag": "ABX9TyMwGYf3D4D2r7GmNdvJbf4g",
      "include_colab_link": true
    },
    "kernelspec": {
      "name": "python3",
      "display_name": "Python 3"
    }
  },
  "cells": [
    {
      "cell_type": "markdown",
      "metadata": {
        "id": "view-in-github",
        "colab_type": "text"
      },
      "source": [
        "<a href=\"https://colab.research.google.com/github/venanciomitidieri/Collections_Dict_Conjuntos/blob/main/Collections.ipynb\" target=\"_parent\"><img src=\"https://colab.research.google.com/assets/colab-badge.svg\" alt=\"Open In Colab\"/></a>"
      ]
    },
    {
      "cell_type": "code",
      "metadata": {
        "id": "LELkH1x3n3hX"
      },
      "source": [
        "usuarios_data_science = [15, 23, 43, 56]\n",
        "usuarios_machine_learning = [13, 23, 56, 42]"
      ],
      "execution_count": null,
      "outputs": []
    },
    {
      "cell_type": "code",
      "metadata": {
        "id": "PhYa_7z5oJks",
        "outputId": "aceb793c-b848-4b3d-c543-47c81779a970",
        "colab": {
          "base_uri": "https://localhost:8080/"
        }
      },
      "source": [
        "assistiram = usuarios_data_science.copy()\n",
        "assistiram.extend(usuarios_machine_learning)\n",
        "assistiram"
      ],
      "execution_count": null,
      "outputs": [
        {
          "output_type": "execute_result",
          "data": {
            "text/plain": [
              "[15, 23, 43, 56, 13, 23, 56, 42]"
            ]
          },
          "metadata": {
            "tags": []
          },
          "execution_count": 5
        }
      ]
    },
    {
      "cell_type": "code",
      "metadata": {
        "id": "o1d08FZAoqFG",
        "outputId": "3a9b004d-f4f9-4dc9-ce4d-cda020d76dbc",
        "colab": {
          "base_uri": "https://localhost:8080/"
        }
      },
      "source": [
        "len(assistiram)"
      ],
      "execution_count": null,
      "outputs": [
        {
          "output_type": "execute_result",
          "data": {
            "text/plain": [
              "8"
            ]
          },
          "metadata": {
            "tags": []
          },
          "execution_count": 6
        }
      ]
    },
    {
      "cell_type": "code",
      "metadata": {
        "id": "S-w7MNeppRG8",
        "outputId": "305edc55-5d93-4f63-a74f-d3f55145748e",
        "colab": {
          "base_uri": "https://localhost:8080/"
        }
      },
      "source": [
        "set(assistiram)"
      ],
      "execution_count": null,
      "outputs": [
        {
          "output_type": "execute_result",
          "data": {
            "text/plain": [
              "{13, 15, 23, 42, 43, 56}"
            ]
          },
          "metadata": {
            "tags": []
          },
          "execution_count": 7
        }
      ]
    },
    {
      "cell_type": "code",
      "metadata": {
        "id": "kpWaM0c9pW8Y",
        "outputId": "4b615404-2181-41b5-f8f5-14db3ecfb9e2",
        "colab": {
          "base_uri": "https://localhost:8080/"
        }
      },
      "source": [
        "{4, 1, 2, 3, 1}\n",
        "type({4, 1, 2, 3, 1})"
      ],
      "execution_count": null,
      "outputs": [
        {
          "output_type": "execute_result",
          "data": {
            "text/plain": [
              "set"
            ]
          },
          "metadata": {
            "tags": []
          },
          "execution_count": 11
        }
      ]
    },
    {
      "cell_type": "code",
      "metadata": {
        "id": "-eJHEcfGpqUr"
      },
      "source": [
        "# Por Padrão um set (conjunto) não tem indice"
      ],
      "execution_count": null,
      "outputs": []
    },
    {
      "cell_type": "code",
      "metadata": {
        "id": "fo23fxMeqVqa",
        "outputId": "ccab9b47-8bfd-4f6f-e230-57eaa373a0a2",
        "colab": {
          "base_uri": "https://localhost:8080/"
        }
      },
      "source": [
        "for usuario in set(assistiram):\n",
        "  print(usuario)"
      ],
      "execution_count": null,
      "outputs": [
        {
          "output_type": "stream",
          "text": [
            "42\n",
            "43\n",
            "13\n",
            "15\n",
            "23\n",
            "56\n"
          ],
          "name": "stdout"
        }
      ]
    },
    {
      "cell_type": "code",
      "metadata": {
        "id": "D63o8N7BqgTP"
      },
      "source": [
        "usuarios_data_science = {15, 23, 43, 56}\n",
        "usuarios_machine_learning = {13, 23, 56, 42}"
      ],
      "execution_count": null,
      "outputs": []
    },
    {
      "cell_type": "code",
      "metadata": {
        "id": "xT7H4SESqwFN",
        "outputId": "30f62f9e-96c6-42fa-a235-602c48073af0",
        "colab": {
          "base_uri": "https://localhost:8080/"
        }
      },
      "source": [
        "usuarios_data_science | usuarios_machine_learning"
      ],
      "execution_count": null,
      "outputs": [
        {
          "output_type": "execute_result",
          "data": {
            "text/plain": [
              "{13, 15, 23, 42, 43, 56}"
            ]
          },
          "metadata": {
            "tags": []
          },
          "execution_count": 19
        }
      ]
    },
    {
      "cell_type": "code",
      "metadata": {
        "id": "I7Ha1YW3q0Ny",
        "outputId": "352b239b-c26e-4906-c2ff-827acb63b70f",
        "colab": {
          "base_uri": "https://localhost:8080/"
        }
      },
      "source": [
        "usuarios_data_science & usuarios_machine_learning"
      ],
      "execution_count": null,
      "outputs": [
        {
          "output_type": "execute_result",
          "data": {
            "text/plain": [
              "{23, 56}"
            ]
          },
          "metadata": {
            "tags": []
          },
          "execution_count": 20
        }
      ]
    },
    {
      "cell_type": "code",
      "metadata": {
        "id": "6e--ZQh-rwp0",
        "outputId": "f6155ca7-59f9-41df-d0bf-0aacb5c5c027",
        "colab": {
          "base_uri": "https://localhost:8080/"
        }
      },
      "source": [
        "usuarios_data_science - usuarios_machine_learning"
      ],
      "execution_count": null,
      "outputs": [
        {
          "output_type": "execute_result",
          "data": {
            "text/plain": [
              "{15, 43}"
            ]
          },
          "metadata": {
            "tags": []
          },
          "execution_count": 21
        }
      ]
    },
    {
      "cell_type": "code",
      "metadata": {
        "id": "_EpbigSCsHDe",
        "outputId": "4fe129cf-70a7-4ffb-8c3f-960c7acda61a",
        "colab": {
          "base_uri": "https://localhost:8080/"
        }
      },
      "source": [
        "fez_ds_mas_nao_fez_ml = usuarios_data_science - usuarios_machine_learning\n",
        "15 in fez_ds_mas_nao_fez_ml"
      ],
      "execution_count": null,
      "outputs": [
        {
          "output_type": "execute_result",
          "data": {
            "text/plain": [
              "True"
            ]
          },
          "metadata": {
            "tags": []
          },
          "execution_count": 22
        }
      ]
    },
    {
      "cell_type": "code",
      "metadata": {
        "id": "ogsoZs1EsgFf",
        "outputId": "c808c882-fc1f-48eb-de7f-7a4b47c9a421",
        "colab": {
          "base_uri": "https://localhost:8080/"
        }
      },
      "source": [
        "23 in fez_ds_mas_nao_fez_ml"
      ],
      "execution_count": null,
      "outputs": [
        {
          "output_type": "execute_result",
          "data": {
            "text/plain": [
              "False"
            ]
          },
          "metadata": {
            "tags": []
          },
          "execution_count": 24
        }
      ]
    },
    {
      "cell_type": "code",
      "metadata": {
        "id": "fqSqKqyKsiSN",
        "outputId": "7bd025e3-4c85-409e-dc57-2d0236b21c8a",
        "colab": {
          "base_uri": "https://localhost:8080/"
        }
      },
      "source": [
        "usuarios_data_science ^ usuarios_machine_learning"
      ],
      "execution_count": null,
      "outputs": [
        {
          "output_type": "execute_result",
          "data": {
            "text/plain": [
              "{13, 15, 42, 43}"
            ]
          },
          "metadata": {
            "tags": []
          },
          "execution_count": 25
        }
      ]
    },
    {
      "cell_type": "code",
      "metadata": {
        "id": "zXTdCGgAtMKx",
        "outputId": "48aafdb4-1939-458d-8832-89e585c6c0f9",
        "colab": {
          "base_uri": "https://localhost:8080/"
        }
      },
      "source": [
        "usuarios = {1, 5, 76, 34, 52, 13, 17}\n",
        "len(usuarios)"
      ],
      "execution_count": null,
      "outputs": [
        {
          "output_type": "execute_result",
          "data": {
            "text/plain": [
              "7"
            ]
          },
          "metadata": {
            "tags": []
          },
          "execution_count": 26
        }
      ]
    },
    {
      "cell_type": "code",
      "metadata": {
        "id": "4mPh18UWtT5w",
        "outputId": "f6f94d2e-97ee-4fa0-93d8-07560d95727d",
        "colab": {
          "base_uri": "https://localhost:8080/"
        }
      },
      "source": [
        "usuarios.add(13)\n",
        "usuarios"
      ],
      "execution_count": null,
      "outputs": [
        {
          "output_type": "execute_result",
          "data": {
            "text/plain": [
              "{1, 5, 13, 17, 34, 52, 76}"
            ]
          },
          "metadata": {
            "tags": []
          },
          "execution_count": 28
        }
      ]
    },
    {
      "cell_type": "code",
      "metadata": {
        "id": "C2yg_GbPtb_1",
        "outputId": "9d4ec1f0-6157-48ce-ff7f-6aecc5ffe9e5",
        "colab": {
          "base_uri": "https://localhost:8080/"
        }
      },
      "source": [
        "usuarios.add(765)\n",
        "usuarios"
      ],
      "execution_count": null,
      "outputs": [
        {
          "output_type": "execute_result",
          "data": {
            "text/plain": [
              "{1, 5, 13, 17, 34, 52, 76, 765}"
            ]
          },
          "metadata": {
            "tags": []
          },
          "execution_count": 29
        }
      ]
    },
    {
      "cell_type": "code",
      "metadata": {
        "id": "sZXQ8U_Itpp3",
        "outputId": "bcaa4d05-24be-43ef-e238-4a45bb3b6b45",
        "colab": {
          "base_uri": "https://localhost:8080/"
        }
      },
      "source": [
        "usuarios = frozenset(usuarios)\n",
        "usuarios"
      ],
      "execution_count": null,
      "outputs": [
        {
          "output_type": "execute_result",
          "data": {
            "text/plain": [
              "frozenset({1, 5, 13, 17, 34, 52, 76, 765})"
            ]
          },
          "metadata": {
            "tags": []
          },
          "execution_count": 31
        }
      ]
    },
    {
      "cell_type": "code",
      "metadata": {
        "id": "mYTVFyQQt06s",
        "outputId": "633b80ad-8570-44fe-dc7b-acf6f936164b",
        "colab": {
          "base_uri": "https://localhost:8080/"
        }
      },
      "source": [
        "type(usuarios)"
      ],
      "execution_count": null,
      "outputs": [
        {
          "output_type": "execute_result",
          "data": {
            "text/plain": [
              "frozenset"
            ]
          },
          "metadata": {
            "tags": []
          },
          "execution_count": 32
        }
      ]
    },
    {
      "cell_type": "code",
      "metadata": {
        "id": "iDoDJCBBJUpQ"
      },
      "source": [
        "# Quando estamos tratando de conjunto o frozenset não permite adicionar novos itens"
      ],
      "execution_count": null,
      "outputs": []
    },
    {
      "cell_type": "code",
      "metadata": {
        "id": "Kq5VsHG7uNVt",
        "outputId": "8bdfc64d-5d19-4a72-846d-75916c25d4aa",
        "colab": {
          "base_uri": "https://localhost:8080/",
          "height": 180
        }
      },
      "source": [
        "usuarios.add(432)\n",
        "usuarios"
      ],
      "execution_count": null,
      "outputs": [
        {
          "output_type": "error",
          "ename": "AttributeError",
          "evalue": "ignored",
          "traceback": [
            "\u001b[0;31m---------------------------------------------------------------------------\u001b[0m",
            "\u001b[0;31mAttributeError\u001b[0m                            Traceback (most recent call last)",
            "\u001b[0;32m<ipython-input-34-042fd77b722a>\u001b[0m in \u001b[0;36m<module>\u001b[0;34m()\u001b[0m\n\u001b[0;32m----> 1\u001b[0;31m \u001b[0musuarios\u001b[0m\u001b[0;34m.\u001b[0m\u001b[0madd\u001b[0m\u001b[0;34m(\u001b[0m\u001b[0;36m432\u001b[0m\u001b[0;34m)\u001b[0m\u001b[0;34m\u001b[0m\u001b[0;34m\u001b[0m\u001b[0m\n\u001b[0m\u001b[1;32m      2\u001b[0m \u001b[0musuarios\u001b[0m\u001b[0;34m\u001b[0m\u001b[0;34m\u001b[0m\u001b[0m\n",
            "\u001b[0;31mAttributeError\u001b[0m: 'frozenset' object has no attribute 'add'"
          ]
        }
      ]
    },
    {
      "cell_type": "code",
      "metadata": {
        "id": "afdZJafsuQWE",
        "outputId": "8d375386-a93b-472f-eb2e-ec9feb46f726",
        "colab": {
          "base_uri": "https://localhost:8080/"
        }
      },
      "source": [
        "meu_texto = 'Bem vindo meu nome é Guilherme eu gosto de nomes e tenho o meu cachorro e gosto muito de cachorro'\n",
        "set(meu_texto.split())"
      ],
      "execution_count": null,
      "outputs": [
        {
          "output_type": "execute_result",
          "data": {
            "text/plain": [
              "{'Bem',\n",
              " 'Guilherme',\n",
              " 'cachorro',\n",
              " 'de',\n",
              " 'e',\n",
              " 'eu',\n",
              " 'gosto',\n",
              " 'meu',\n",
              " 'muito',\n",
              " 'nome',\n",
              " 'nomes',\n",
              " 'o',\n",
              " 'tenho',\n",
              " 'vindo',\n",
              " 'é'}"
            ]
          },
          "metadata": {
            "tags": []
          },
          "execution_count": 36
        }
      ]
    },
    {
      "cell_type": "markdown",
      "metadata": {
        "id": "1U0megMWyGBJ"
      },
      "source": [
        "# **DICIONÁRIO (MAPA E ECT)**"
      ]
    },
    {
      "cell_type": "code",
      "metadata": {
        "id": "eKDM7pucvIZ4"
      },
      "source": [
        "aparicoes = {\n",
        "  'Guilherme' : 1,\n",
        "  'cachorro' : 2,\n",
        "  'nosso' : 2,\n",
        "  'vindo' : 1\n",
        "}"
      ],
      "execution_count": null,
      "outputs": []
    },
    {
      "cell_type": "code",
      "metadata": {
        "id": "5Hndrps8yhs_",
        "outputId": "afdc0c78-4b1d-4359-b5e6-94fdf6c108e2",
        "colab": {
          "base_uri": "https://localhost:8080/"
        }
      },
      "source": [
        "type(aparicoes)"
      ],
      "execution_count": null,
      "outputs": [
        {
          "output_type": "execute_result",
          "data": {
            "text/plain": [
              "dict"
            ]
          },
          "metadata": {
            "tags": []
          },
          "execution_count": 38
        }
      ]
    },
    {
      "cell_type": "code",
      "metadata": {
        "id": "uulxm0yFykMe",
        "outputId": "9a33f322-21cb-45b5-dfa5-5942ede2b6fa",
        "colab": {
          "base_uri": "https://localhost:8080/"
        }
      },
      "source": [
        "aparicoes['Guilherme']"
      ],
      "execution_count": null,
      "outputs": [
        {
          "output_type": "execute_result",
          "data": {
            "text/plain": [
              "1"
            ]
          },
          "metadata": {
            "tags": []
          },
          "execution_count": 39
        }
      ]
    },
    {
      "cell_type": "code",
      "metadata": {
        "id": "mTB_D5xPynYz",
        "outputId": "cd851235-bbfb-4f01-93e3-ea17e408ae93",
        "colab": {
          "base_uri": "https://localhost:8080/"
        }
      },
      "source": [
        "aparicoes['cachorro']"
      ],
      "execution_count": null,
      "outputs": [
        {
          "output_type": "execute_result",
          "data": {
            "text/plain": [
              "2"
            ]
          },
          "metadata": {
            "tags": []
          },
          "execution_count": 40
        }
      ]
    },
    {
      "cell_type": "code",
      "metadata": {
        "id": "UIo-c8omyq0E",
        "outputId": "cbc0d4aa-137c-4c78-f4fc-8a83d54bf215",
        "colab": {
          "base_uri": "https://localhost:8080/",
          "height": 163
        }
      },
      "source": [
        "aparcioes['xpto']"
      ],
      "execution_count": null,
      "outputs": [
        {
          "output_type": "error",
          "ename": "NameError",
          "evalue": "ignored",
          "traceback": [
            "\u001b[0;31m---------------------------------------------------------------------------\u001b[0m",
            "\u001b[0;31mNameError\u001b[0m                                 Traceback (most recent call last)",
            "\u001b[0;32m<ipython-input-41-111dfc204433>\u001b[0m in \u001b[0;36m<module>\u001b[0;34m()\u001b[0m\n\u001b[0;32m----> 1\u001b[0;31m \u001b[0maparcioes\u001b[0m\u001b[0;34m[\u001b[0m\u001b[0;34m'xpto'\u001b[0m\u001b[0;34m]\u001b[0m\u001b[0;34m\u001b[0m\u001b[0;34m\u001b[0m\u001b[0m\n\u001b[0m",
            "\u001b[0;31mNameError\u001b[0m: name 'aparcioes' is not defined"
          ]
        }
      ]
    },
    {
      "cell_type": "code",
      "metadata": {
        "id": "RvrbxAV9ytw5",
        "outputId": "f9d2d40d-ea6f-482e-a850-d203faede1bd",
        "colab": {
          "base_uri": "https://localhost:8080/"
        }
      },
      "source": [
        "aparicoes = dict(Guilherme = 2, cachorro = 1)\n",
        "aparicoes"
      ],
      "execution_count": null,
      "outputs": [
        {
          "output_type": "execute_result",
          "data": {
            "text/plain": [
              "{'Guilherme': 2, 'cachorro': 1}"
            ]
          },
          "metadata": {
            "tags": []
          },
          "execution_count": 43
        }
      ]
    },
    {
      "cell_type": "code",
      "metadata": {
        "id": "0ntOKzNWzUYl"
      },
      "source": [
        "aparicoes = {\n",
        "    'Guilherme' : 1,\n",
        "    'cachorro' : 2,\n",
        "    'nome' : 2,\n",
        "    'vindo' : 1\n",
        "}"
      ],
      "execution_count": null,
      "outputs": []
    },
    {
      "cell_type": "code",
      "metadata": {
        "id": "s4Jsb_OfzeXR"
      },
      "source": [
        "aparicoes['Carlos'] = 1"
      ],
      "execution_count": null,
      "outputs": []
    },
    {
      "cell_type": "code",
      "metadata": {
        "id": "JcJkNPF7zkO4",
        "outputId": "a7c969f5-2550-479c-8db5-9ef0273437be",
        "colab": {
          "base_uri": "https://localhost:8080/"
        }
      },
      "source": [
        "aparicoes"
      ],
      "execution_count": null,
      "outputs": [
        {
          "output_type": "execute_result",
          "data": {
            "text/plain": [
              "{'Carlos': 1, 'Guilherme': 1, 'cachorro': 2, 'nosso': 2, 'vindo': 1}"
            ]
          },
          "metadata": {
            "tags": []
          },
          "execution_count": 58
        }
      ]
    },
    {
      "cell_type": "code",
      "metadata": {
        "id": "ShD2JSaDzlKW"
      },
      "source": [
        "del aparicoes['Carlos']"
      ],
      "execution_count": null,
      "outputs": []
    },
    {
      "cell_type": "code",
      "metadata": {
        "id": "6n529hvRzud9",
        "outputId": "a6407a5f-cbab-461d-a92e-b4874fae7a71",
        "colab": {
          "base_uri": "https://localhost:8080/"
        }
      },
      "source": [
        "aparicoes"
      ],
      "execution_count": null,
      "outputs": [
        {
          "output_type": "execute_result",
          "data": {
            "text/plain": [
              "{'Guilherme': 1, 'cachorro': 2, 'nome': 2, 'vindo': 1}"
            ]
          },
          "metadata": {
            "tags": []
          },
          "execution_count": 82
        }
      ]
    },
    {
      "cell_type": "code",
      "metadata": {
        "id": "UKOTc-5xzy0Z",
        "outputId": "0a5caff7-17b6-440e-94da-062071fac77b",
        "colab": {
          "base_uri": "https://localhost:8080/"
        }
      },
      "source": [
        "'cachorro' in aparicoes"
      ],
      "execution_count": null,
      "outputs": [
        {
          "output_type": "execute_result",
          "data": {
            "text/plain": [
              "True"
            ]
          },
          "metadata": {
            "tags": []
          },
          "execution_count": 83
        }
      ]
    },
    {
      "cell_type": "code",
      "metadata": {
        "id": "i0trR7w7z32U",
        "outputId": "974f185e-aa0c-432a-e630-defcd138bde2",
        "colab": {
          "base_uri": "https://localhost:8080/"
        }
      },
      "source": [
        "'Carlos' in aparicoes"
      ],
      "execution_count": null,
      "outputs": [
        {
          "output_type": "execute_result",
          "data": {
            "text/plain": [
              "False"
            ]
          },
          "metadata": {
            "tags": []
          },
          "execution_count": 84
        }
      ]
    },
    {
      "cell_type": "code",
      "metadata": {
        "id": "kK9XeQ2Kz8s7",
        "outputId": "a45b0ade-ce44-4da5-8a1e-e28bbac4c79f",
        "colab": {
          "base_uri": "https://localhost:8080/"
        }
      },
      "source": [
        "for elemento in aparicoes:\n",
        "  print(elemento)"
      ],
      "execution_count": null,
      "outputs": [
        {
          "output_type": "stream",
          "text": [
            "Guilherme\n",
            "cachorro\n",
            "nome\n",
            "vindo\n"
          ],
          "name": "stdout"
        }
      ]
    },
    {
      "cell_type": "code",
      "metadata": {
        "id": "6zHpfiXf0CxV",
        "outputId": "07cc400e-71ca-4aad-9a52-efdc0c759ab8",
        "colab": {
          "base_uri": "https://localhost:8080/"
        }
      },
      "source": [
        "for elemento in aparicoes.keys():\n",
        "  print(elemento)"
      ],
      "execution_count": null,
      "outputs": [
        {
          "output_type": "stream",
          "text": [
            "Guilherme\n",
            "cachorro\n",
            "nome\n",
            "vindo\n"
          ],
          "name": "stdout"
        }
      ]
    },
    {
      "cell_type": "code",
      "metadata": {
        "id": "ZI30UlyK0XVx",
        "outputId": "9776278d-cfbc-4629-df7b-43912cf1c314",
        "colab": {
          "base_uri": "https://localhost:8080/"
        }
      },
      "source": [
        "for elemento in aparicoes.values():\n",
        "  print(elemento)"
      ],
      "execution_count": null,
      "outputs": [
        {
          "output_type": "stream",
          "text": [
            "1\n",
            "2\n",
            "2\n",
            "1\n"
          ],
          "name": "stdout"
        }
      ]
    },
    {
      "cell_type": "code",
      "metadata": {
        "id": "sRYRw_oP0h38",
        "outputId": "96eec571-7626-4f53-cb86-449fda698f63",
        "colab": {
          "base_uri": "https://localhost:8080/"
        }
      },
      "source": [
        "for elemento in aparicoes.keys():\n",
        "  valor = aparicoes[elemento]\n",
        "  print(elemento, valor)"
      ],
      "execution_count": null,
      "outputs": [
        {
          "output_type": "stream",
          "text": [
            "Guilherme 1\n",
            "cachorro 2\n",
            "nome 2\n",
            "vindo 1\n"
          ],
          "name": "stdout"
        }
      ]
    },
    {
      "cell_type": "code",
      "metadata": {
        "id": "NtujquKY3vRb",
        "outputId": "2311acdc-ff53-4bb3-afbb-c587c2d9b757",
        "colab": {
          "base_uri": "https://localhost:8080/"
        }
      },
      "source": [
        "for elemento in aparicoes.items():\n",
        "  print(elemento)"
      ],
      "execution_count": null,
      "outputs": [
        {
          "output_type": "stream",
          "text": [
            "('Guilherme', 1)\n",
            "('cachorro', 2)\n",
            "('nome', 2)\n",
            "('vindo', 1)\n"
          ],
          "name": "stdout"
        }
      ]
    },
    {
      "cell_type": "code",
      "metadata": {
        "id": "GOGKV90l33MW",
        "outputId": "33cd3da6-8030-42ee-bbbd-b1c704195389",
        "colab": {
          "base_uri": "https://localhost:8080/"
        }
      },
      "source": [
        "for chave, valor in aparicoes.items():\n",
        "  print(chave, '=', valor)"
      ],
      "execution_count": null,
      "outputs": [
        {
          "output_type": "stream",
          "text": [
            "Guilherme = 1\n",
            "cachorro = 2\n",
            "nome = 2\n",
            "vindo = 1\n"
          ],
          "name": "stdout"
        }
      ]
    },
    {
      "cell_type": "code",
      "metadata": {
        "id": "h1o9DtH_4LV8",
        "outputId": "cb42a7c8-698e-4ae1-8b3b-48c8e759d4fc",
        "colab": {
          "base_uri": "https://localhost:8080/"
        }
      },
      "source": [
        "['palavra {}' .format(chave) for chave in aparicoes.keys()]"
      ],
      "execution_count": null,
      "outputs": [
        {
          "output_type": "execute_result",
          "data": {
            "text/plain": [
              "['palavra Guilherme', 'palavra cachorro', 'palavra nome', 'palavra vindo']"
            ]
          },
          "metadata": {
            "tags": []
          },
          "execution_count": 94
        }
      ]
    },
    {
      "cell_type": "code",
      "metadata": {
        "id": "qRC62Xo24eW_",
        "outputId": "9b5a2f6e-f8f9-4787-f4e8-50e749e2c391",
        "colab": {
          "base_uri": "https://localhost:8080/"
        }
      },
      "source": [
        "meu_texto = 'Bem vindo meu nome é Guilherme eu gosto de nomes e tenho o meu cachorro e gosto muito de cachorro'\n",
        "meu_texto = meu_texto.lower()\n",
        "\n",
        "aparicoes = {}\n",
        "\n",
        "for palavra in meu_texto.split():\n",
        "  ate_agora = aparicoes.get(palavra, 0)\n",
        "  aparicoes[palavra] = ate_agora + 1\n",
        "\n",
        "aparicoes"
      ],
      "execution_count": null,
      "outputs": [
        {
          "output_type": "execute_result",
          "data": {
            "text/plain": [
              "{'bem': 1,\n",
              " 'cachorro': 2,\n",
              " 'de': 2,\n",
              " 'e': 2,\n",
              " 'eu': 1,\n",
              " 'gosto': 2,\n",
              " 'guilherme': 1,\n",
              " 'meu': 2,\n",
              " 'muito': 1,\n",
              " 'nome': 1,\n",
              " 'nomes': 1,\n",
              " 'o': 1,\n",
              " 'tenho': 1,\n",
              " 'vindo': 1,\n",
              " 'é': 1}"
            ]
          },
          "metadata": {
            "tags": []
          },
          "execution_count": 99
        }
      ]
    },
    {
      "cell_type": "code",
      "metadata": {
        "id": "FVtS1kqn57T3",
        "outputId": "d3559df3-69d6-4261-891f-061fd9734861",
        "colab": {
          "base_uri": "https://localhost:8080/"
        }
      },
      "source": [
        "from collections import defaultdict\n",
        "\n",
        "aparicoes = defaultdict(int)\n",
        "\n",
        "for palavra in meu_texto.split():\n",
        "  ate_agora = aparicoes[palavra]\n",
        "  aparicoes[palavra] = ate_agora + 1\n",
        "\n",
        "aparicoes"
      ],
      "execution_count": null,
      "outputs": [
        {
          "output_type": "execute_result",
          "data": {
            "text/plain": [
              "defaultdict(int,\n",
              "            {'bem': 1,\n",
              "             'cachorro': 2,\n",
              "             'de': 2,\n",
              "             'e': 2,\n",
              "             'eu': 1,\n",
              "             'gosto': 2,\n",
              "             'guilherme': 1,\n",
              "             'meu': 2,\n",
              "             'muito': 1,\n",
              "             'nome': 1,\n",
              "             'nomes': 1,\n",
              "             'o': 1,\n",
              "             'tenho': 1,\n",
              "             'vindo': 1,\n",
              "             'é': 1})"
            ]
          },
          "metadata": {
            "tags": []
          },
          "execution_count": 101
        }
      ]
    },
    {
      "cell_type": "code",
      "metadata": {
        "id": "kkjp57QS8EgV",
        "outputId": "2b79224b-509a-4912-a187-afdd35bcbf41",
        "colab": {
          "base_uri": "https://localhost:8080/"
        }
      },
      "source": [
        "dicionario = defaultdict(int)\n",
        "dicionario['Guilherme']"
      ],
      "execution_count": null,
      "outputs": [
        {
          "output_type": "execute_result",
          "data": {
            "text/plain": [
              "0"
            ]
          },
          "metadata": {
            "tags": []
          },
          "execution_count": 102
        }
      ]
    },
    {
      "cell_type": "code",
      "metadata": {
        "id": "wjj0Fsfe8cma",
        "outputId": "4372501d-53cc-46d4-a12e-d0bff561e848",
        "colab": {
          "base_uri": "https://localhost:8080/"
        }
      },
      "source": [
        "dicionario['Guilherme'] = 15\n",
        "dicionario['Guilherme']"
      ],
      "execution_count": null,
      "outputs": [
        {
          "output_type": "execute_result",
          "data": {
            "text/plain": [
              "15"
            ]
          },
          "metadata": {
            "tags": []
          },
          "execution_count": 103
        }
      ]
    },
    {
      "cell_type": "code",
      "metadata": {
        "id": "LlTZgfR78h5Z",
        "outputId": "5c786cc9-689d-4317-cc30-599d56650711",
        "colab": {
          "base_uri": "https://localhost:8080/"
        }
      },
      "source": [
        "aparicoes = defaultdict(int)\n",
        "\n",
        "for palavra in meu_texto.split():\n",
        "  aparicoes[palavra] += 1\n",
        "\n",
        "aparicoes"
      ],
      "execution_count": null,
      "outputs": [
        {
          "output_type": "execute_result",
          "data": {
            "text/plain": [
              "defaultdict(int,\n",
              "            {'bem': 1,\n",
              "             'cachorro': 2,\n",
              "             'de': 2,\n",
              "             'e': 2,\n",
              "             'eu': 1,\n",
              "             'gosto': 2,\n",
              "             'guilherme': 1,\n",
              "             'meu': 2,\n",
              "             'muito': 1,\n",
              "             'nome': 1,\n",
              "             'nomes': 1,\n",
              "             'o': 1,\n",
              "             'tenho': 1,\n",
              "             'vindo': 1,\n",
              "             'é': 1})"
            ]
          },
          "metadata": {
            "tags": []
          },
          "execution_count": 104
        }
      ]
    },
    {
      "cell_type": "code",
      "metadata": {
        "id": "Hex4GkbL84jo"
      },
      "source": [
        "class Conta:\n",
        "  def __init__(self):\n",
        "    print('Criando uma conta')"
      ],
      "execution_count": null,
      "outputs": []
    },
    {
      "cell_type": "code",
      "metadata": {
        "id": "wXHDI4939FTf",
        "outputId": "1b843b21-1d22-4d69-b5fa-891984ab5003",
        "colab": {
          "base_uri": "https://localhost:8080/"
        }
      },
      "source": [
        "conta = defaultdict(Conta)\n",
        "conta[15]"
      ],
      "execution_count": null,
      "outputs": [
        {
          "output_type": "stream",
          "text": [
            "Criando uma conta\n"
          ],
          "name": "stdout"
        },
        {
          "output_type": "execute_result",
          "data": {
            "text/plain": [
              "<__main__.Conta at 0x7f3fc41328d0>"
            ]
          },
          "metadata": {
            "tags": []
          },
          "execution_count": 108
        }
      ]
    },
    {
      "cell_type": "code",
      "metadata": {
        "id": "_734NERy9PL2",
        "outputId": "75faad8f-ebd0-445c-db08-daa5ec0c10b0",
        "colab": {
          "base_uri": "https://localhost:8080/"
        }
      },
      "source": [
        "conta[17]"
      ],
      "execution_count": null,
      "outputs": [
        {
          "output_type": "stream",
          "text": [
            "Criando uma conta\n"
          ],
          "name": "stdout"
        },
        {
          "output_type": "execute_result",
          "data": {
            "text/plain": [
              "<__main__.Conta at 0x7f3fc404d2e8>"
            ]
          },
          "metadata": {
            "tags": []
          },
          "execution_count": 109
        }
      ]
    },
    {
      "cell_type": "code",
      "metadata": {
        "id": "9ktxp17e9Vli",
        "outputId": "e76ff13d-149f-4502-d511-908183553703",
        "colab": {
          "base_uri": "https://localhost:8080/"
        }
      },
      "source": [
        "conta[15]"
      ],
      "execution_count": null,
      "outputs": [
        {
          "output_type": "execute_result",
          "data": {
            "text/plain": [
              "<__main__.Conta at 0x7f3fc41328d0>"
            ]
          },
          "metadata": {
            "tags": []
          },
          "execution_count": 110
        }
      ]
    },
    {
      "cell_type": "code",
      "metadata": {
        "id": "0yG6N6Qf9ZY7",
        "outputId": "9806c16f-5e40-4b5e-f7b7-9781ed3ff0b3",
        "colab": {
          "base_uri": "https://localhost:8080/"
        }
      },
      "source": [
        "from collections import Counter\n",
        "\n",
        "aparicoes = Counter()\n",
        "for palavra in meu_texto.split():\n",
        "  aparicoes[palavra] += 1\n",
        "\n",
        "aparicoes"
      ],
      "execution_count": null,
      "outputs": [
        {
          "output_type": "execute_result",
          "data": {
            "text/plain": [
              "Counter({'bem': 1,\n",
              "         'cachorro': 2,\n",
              "         'de': 2,\n",
              "         'e': 2,\n",
              "         'eu': 1,\n",
              "         'gosto': 2,\n",
              "         'guilherme': 1,\n",
              "         'meu': 2,\n",
              "         'muito': 1,\n",
              "         'nome': 1,\n",
              "         'nomes': 1,\n",
              "         'o': 1,\n",
              "         'tenho': 1,\n",
              "         'vindo': 1,\n",
              "         'é': 1})"
            ]
          },
          "metadata": {
            "tags": []
          },
          "execution_count": 112
        }
      ]
    },
    {
      "cell_type": "code",
      "metadata": {
        "id": "kfwj6hZZ96DV",
        "outputId": "aeadf8dc-a827-41f6-a820-8c6fd93b7ea9",
        "colab": {
          "base_uri": "https://localhost:8080/"
        }
      },
      "source": [
        "aparicoes = Counter(meu_texto.split())\n",
        "\n",
        "aparicoes"
      ],
      "execution_count": null,
      "outputs": [
        {
          "output_type": "execute_result",
          "data": {
            "text/plain": [
              "Counter({'bem': 1,\n",
              "         'cachorro': 2,\n",
              "         'de': 2,\n",
              "         'e': 2,\n",
              "         'eu': 1,\n",
              "         'gosto': 2,\n",
              "         'guilherme': 1,\n",
              "         'meu': 2,\n",
              "         'muito': 1,\n",
              "         'nome': 1,\n",
              "         'nomes': 1,\n",
              "         'o': 1,\n",
              "         'tenho': 1,\n",
              "         'vindo': 1,\n",
              "         'é': 1})"
            ]
          },
          "metadata": {
            "tags": []
          },
          "execution_count": 114
        }
      ]
    },
    {
      "cell_type": "markdown",
      "metadata": {
        "id": "cn0tmm2F_HW5"
      },
      "source": [
        "# Testando o uso de diversas coleções"
      ]
    },
    {
      "cell_type": "code",
      "metadata": {
        "id": "A4decA_K_KWM"
      },
      "source": [
        "texto_1 = '''\n",
        "\n",
        "Para começar a fazer vendas online, uma empresa que fabrica adesivos criou uma página para pré cadastro de cartão de crédito que contém campos como nome, idade, endereço, CPF entre outros.\n",
        "\n",
        "O problema é que alguns cadastros não possuem um formato de CPF válido, isso porque o campo não possui nenhuma validação. Ou seja, o campo está aceitando não só números como letras e outros tipos de caractere.\n",
        "\n",
        "O que vamos fazer é encontrar uma maneira de ajudar o usuário de forma mais clara possível a preencher o cadastro e garantir a validação no front-end antes que os dados sejam enviados para o back-end. Como podemos notar não temos nenhuma validação, então fica confuso se devemos ou não colocar ponto ou traço no CPF e pode acontecer do usuário colocar outros caracteres no campo sem querer.\n",
        "\n",
        "Para isso evitar que isso ocorra vamos usar o atributo pattern do HTML5 que nos permite fazer uso das famosas expressões regulares que nada mais são que padrões utilizados para selecionar caracteres em uma string.\n",
        "\n",
        "Na nossa verificação vamos usar a lista [0-9], esse padrão indica que queremos os números de 0 até 9 e o intervalo {11}, indicando que temos que ter um número de 11 dígitos no nosso campo.\n",
        "\n",
        "Com a adição do pattern nosso campo de CPF ficou da seguinte maneira: Com a ajuda do pattern e das expressões regulares conseguimos resolver uma parte da tarefa, agora o que precisamos fazer encontrar uma maneira de formatar o CPF no padrão que precisamos enviar ao back-end.\n",
        "\n",
        "Mais um pouco de Regex\n",
        "Para começar vamos criar uma função que vai ser responsável por formatar o CPF. Dentro dessa função vamos ter as variáveis :\n",
        "\n",
        "elementoAlvo: responsável pelo parâmetro que vai ser passado na função\n",
        "cpfAtual: responsável por capturar os números do CPF digitados\n",
        "cpfAtualizado: responsável por receber o CPF formatado.\n",
        "\n",
        "'''"
      ],
      "execution_count": null,
      "outputs": []
    },
    {
      "cell_type": "code",
      "metadata": {
        "id": "1XoB5scxAyFE"
      },
      "source": [
        "texto_2 = '''\n",
        "\n",
        "Vamos imaginar uma empresa como o Nubank, seu nome é ByteBank. A primeira vista ela vende cartões de crédito e possui uma estratégia de marketing de conteúdo para seus clientes (Business to Consumer, B2C).\n",
        "\n",
        "Agora ela está lançando um novo cartão focado em empresas e quer criar uma estratégia de marketing de conteúdo para outras empresas (business to business, B2B).\n",
        "\n",
        "Como eles podem criar essa estratégia? É possível utilizar ideias e ferramentas do marketing de conteúdo B2C para o B2B?\n",
        "\n",
        "No marketing de conteúdo criado para B2C da ByteBank é muito enfatizado que as principais vantagens da empresa são:\n",
        "\n",
        "saber o limite na hora;\n",
        "não pagar qualquer tarifa e\n",
        "não ter que lidar com burocracia na hora de fazer o cartão.\n",
        "Então, todo o plano é focado em criar conteúdos sobre questões relacionadas ao mundo financeiro, para mostrar que a empresa é especialista no assunto, transmitindo uma confiança aos clientes.\n",
        "\n",
        "A equipe de marketing escreveu um texto no qual foram explicadas todas as taxas do cartão de crédito. Depois de explicar com detalhes o que é cada taxa, foi mostrado o porquê do cartão dessa empresa não cobrar nenhuma delas.\n",
        "\n",
        "Para mostrar na prática o quanto o consumidor economizaria, eles deram como um exemplo que mostram o que pode ser comprado com o dinheiro economizado em tarifas do cartão. Veja como ficou o texto:\n",
        "\n",
        "Se a tarifa é de 30 reais por mês, depois de um ano: 30 (tarifa) * 12 (meses) = 360, você gasta R$ 360,00 só em tarifas! Não seria muito melhor comprar um Kindle ou dois jogos para Playstation 4 ou, até mesmo, ir uma vez por mês ao cinema (e pagando inteira) com esse dinheiro em vez de pagá-lo em tarifas?\n",
        "\n",
        "Será que se pode fazer a mesma coisa para o B2B, já que não existem tarifas para empresas também?\n",
        "\n",
        "As empresas que querem comprar um produto precisam avaliar muito bem toda a compra, sempre se perguntando se aquele produto realmente compensa para ela, principalmente a longo prazo.\n",
        "\n",
        "Então, e se fosse dito coisas que a empresa poderia fazer com o dinheiro que também vão trazer um retorno financeiro, ao contrário das taxas dos bancos? Como fazer pesquisas com usuários, desenvolver novos produtos, treinar pessoas para marketing, entre outras coisas?\n",
        "\n",
        "Pensando nessas diferenças, utilizamos o mesmo exemplo: quanto seria economizado por ano pela empresa cliente. Porém, no texto inteiro, queremos também mostrar dicas de como ela pode poupar, de diversas maneiras, mesmo usando um cartão de crédito. Então, o exemplo de economia no texto ficou assim:\n",
        "\n",
        "Pensando que a tarifa para empresas é mais barata que para pessoas físicas, ou seja, de 30 reais, passa a ser 10 reais por cartão para cada colaborador, e dez cartões serão feitos, cada um pertencendo a colaborador, depois de um ano, serão pagos: 10 (de tarifa) * 10 (quantidade de cartões) * 12 (meses do ano) = 1200.\n",
        "\n",
        "Assim, a organização gastaria R$ 1.200,00 para manter os cartões durante esse período. Agora, se os cartões não possuem tarifa nenhuma, em vez de pagar esse valor, a empresa economizará R$1.200,00.\n",
        "\n",
        "Agora, com essa economia, você poderia investir em treinamentos ou eventos, que, após um tempo, poderiam aumentar ainda mais o retorno da empresa.\n",
        "\n",
        "Foi usada uma linguagem mais formal do que a B2C porque quando estamos lidando com empresas temos que ser mais práticos e mostrar exatamente o que a empresa ganha, e, no caso, até como poderia ganhar mais depois.\n",
        "\n",
        "Além dessa mudança na linguagem, tivemos ideias diferentes de conteúdo. No B2C foram apresentados conhecimentos a respeito de cada taxa, para que a pessoa entenda o que está pagando e confie em empresas que não cobra as taxas.\n",
        "\n",
        "Agora para B2B foram apresentadas formas para economizar no cartão, pois, muitas vezes, os empresários sabem o que é cada taxa do cartão e tem que utilizá-lo mesmo assim. Então, mostramos como ele pode economizar e, uma dessas formas, é usar o cartão da ByteBank.\n",
        "\n",
        "Nesse mesmo texto para B2B também acrescentamos o conteúdo de outra vantagem do cartão: poder determinar um limite de gastos para cada categoria nos cartões dos funcionários da empresa.\n",
        "\n",
        "Dessa forma, os funcionários não podem gastar mais do que o determinado e, assim, a empresa consegue economizar e planejar os gastos e não extrapolar com compras dos funcionários.\n",
        "\n",
        "O foco da comunicação B2B que utilizamos foi dar dicas para não cometer erros e economizar mais, para que a empresa perceba que utilizar o cartão é vantagem.\n",
        "\n",
        "E caso a sua empresa seja diferente da ByteBank, seja só B2B e não tenha nenhum plano de comunicação focado para B2C para se basear?\n",
        "\n",
        "Existem diversas empresas B2B:\n",
        "\n",
        "as que vendem tanto para B2B quanto para B2C, como a ByteBank;\n",
        "as que vendem para ambos os consumidores, mas possuem um foco maior no B2B, como a Marmotex, que tem como serviço entrega de marmitas e entregam tanto para consumidores quanto empresas, mas possuem um foco maior em organizações e catering para eventos, ou seja, B2B\n",
        "as empresas somente B2B, como as de agências de publicidade.\n",
        "Cada uma das empresas que são B2B possui um produto e um serviço para mostrar.\n",
        "\n",
        "Então, caso você trabalhe em uma empresa que não possui um plano de marketing de conteúdo para B2C para se basear, é só seguir a ideia do marketing de conteúdo, de passar informações relacionados a sua empresa, tornando-a uma autoridade no assunto. E, além disso, mostrar maneiras que o seu produto e/ou serviço pode ajudar a empresa em determinado tema.\n",
        "\n",
        "No B2B, como no marketing de conteúdo focado no B2C, é importante frisar a importância e a relevância do produto e/ou serviço para o cliente. E, melhor, a longo prazo.\n",
        "\n",
        "A empresa cliente precisa entender e saber que a vantagem trazida pelo produto será duradoura. Pois o processo de compra B2B é mais longo justamente porque há muito em jogo e muitas pessoas envolvidas.\n",
        "\n",
        "Mudar de produto ou serviço é trabalhoso e pode causar prejuízo para a empresa, assim, eles buscam e precisam de garantias de que a solução funcionará por muito tempo.\n",
        "\n",
        "Assim, como no marketing B2C, os tipos de conteúdo devem se atentar aos clientes em cada fase do funil de marketing de conteúdo para trazer o conteúdo certo para a empresa em cada momento da obtenção do cartão.\n",
        "\n",
        "Para isso, a Bytebank utilizou dados, números, infográficos e mostrou com exemplos práticos maneiras de ajudar a contratante. Também escreveu conteúdos com histórias de empresas - os chamados cases de sucesso - que obtiveram lucro ou sucesso com o produto/serviço.\n",
        "\n",
        "Além disso, apresentou novidades e dicas tanto da sua empresa, que passou a fornecer uma conta para pessoas físicas e jurídicas, quanto do segmento dela, com informações que podem ser úteis ao cliente do setor financeiro.\n",
        "\n",
        "Como vimos, as principais diferenças entre os conteúdos B2C para o B2B são a linguagem, que deve ser mais formal se for B2B e apelar para o emocional se for B2C.\n",
        "\n",
        "No B2B você estará lidando com pessoas que tomam decisões nas empresas, então deverá mostrar como o produto pode ajudar a empresa, de preferência a longo prazo.\n",
        "\n",
        "Fora isso, o tipo de conteúdo pode ser o mesmo do marketing de conteúdo B2C. Passando desde textos sobre novidades, inovações e dicas na área, até infográficos com dados de pesquisas, vídeos, áudios de podcast, imagens e publicações nas redes sociais.\n",
        "\n",
        "Também, para conteúdo B2B, é muito comum encontrar whitepapers, grupos de usuários, meetups, cases de sucesso, trial gratuito, e até mesmo vídeos ou campanhas e posts de marketing com influenciadores.\n",
        "\n",
        "Agora, se você quiser saber mais sobre marketing de conteúdo, pode fazer nosso curso de Marketing de Conteúdo e, também, conferir mais informações no livro da Casa do Código, Marketing de Conteúdo: Estratégias para entregar o que seu público quer consumir.\n",
        "\n",
        "Leia também:\n",
        "\n",
        "Quatro canais de entrega de conteúdo B2B\n",
        "O que é o Marketing de Conteúdo\n",
        "Três passos para calcular o ROI em Marketing Digital\n",
        "Marketing de Conteúdo: 3 maneiras de impulsionar o seu negócio no ambiente digital\n",
        "Qual é a importância do SEO para o marketing de conteúdo?\n",
        "\n",
        "'''"
      ],
      "execution_count": null,
      "outputs": []
    },
    {
      "cell_type": "code",
      "metadata": {
        "id": "-E4SfVHHBC8V"
      },
      "source": [
        "def analisa_frequencia_de_letras(texto):\n",
        "\n",
        "  aparicoes = Counter(texto.lower())\n",
        "  total_de_caracteres = sum(aparicoes.values())\n",
        "\n",
        "  proporcoes = [(letra, frequencia / total_de_caracteres) for letra, frequencia in aparicoes.items()]\n",
        "  proporcoes = Counter(dict(proporcoes))\n",
        "  mais_comuns = proporcoes.most_common(10)\n",
        "  for caracteres, proporcao in mais_comuns:\n",
        "    print(f'{caracteres} => {proporcao * 100:.2f}')"
      ],
      "execution_count": null,
      "outputs": []
    },
    {
      "cell_type": "code",
      "metadata": {
        "id": "gusmjY--BOgc",
        "outputId": "f96c3bd1-e86c-403e-eea2-335ff107c63b",
        "colab": {
          "base_uri": "https://localhost:8080/"
        }
      },
      "source": [
        "analisa_frequencia_de_letras(texto_1)"
      ],
      "execution_count": null,
      "outputs": [
        {
          "output_type": "stream",
          "text": [
            "  => 16.29\n",
            "a => 9.63\n",
            "o => 9.47\n",
            "e => 8.70\n",
            "r => 6.77\n",
            "s => 6.38\n",
            "n => 4.18\n",
            "m => 3.63\n",
            "c => 3.58\n",
            "u => 3.58\n"
          ],
          "name": "stdout"
        }
      ]
    },
    {
      "cell_type": "code",
      "metadata": {
        "id": "CkcwOTkMFAQG",
        "outputId": "c2f35258-b8da-4a8e-df46-dd1b3c30b617",
        "colab": {
          "base_uri": "https://localhost:8080/"
        }
      },
      "source": [
        "analisa_frequencia_de_letras(texto_2)"
      ],
      "execution_count": null,
      "outputs": [
        {
          "output_type": "stream",
          "text": [
            "  => 16.22\n",
            "a => 9.74\n",
            "e => 9.39\n",
            "o => 8.51\n",
            "s => 6.57\n",
            "r => 5.78\n",
            "m => 4.40\n",
            "i => 4.11\n",
            "t => 4.06\n",
            "n => 4.00\n"
          ],
          "name": "stdout"
        }
      ]
    },
    {
      "cell_type": "code",
      "metadata": {
        "id": "zEpzfxU-GSpP"
      },
      "source": [
        ""
      ],
      "execution_count": null,
      "outputs": []
    }
  ]
}